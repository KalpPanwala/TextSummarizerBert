{
  "nbformat": 4,
  "nbformat_minor": 0,
  "metadata": {
    "colab": {
      "name": "Text summarizer BERT",
      "provenance": [],
      "collapsed_sections": [],
      "toc_visible": true
    },
    "kernelspec": {
      "display_name": "Python 3",
      "name": "python3"
    },
    "widgets": {
      "application/vnd.jupyter.widget-state+json": {
        "c49862cfc99b499da9cc6ed0a60a547d": {
          "model_module": "@jupyter-widgets/controls",
          "model_name": "HBoxModel",
          "state": {
            "_view_name": "HBoxView",
            "_dom_classes": [],
            "_model_name": "HBoxModel",
            "_view_module": "@jupyter-widgets/controls",
            "_model_module_version": "1.5.0",
            "_view_count": null,
            "_view_module_version": "1.5.0",
            "box_style": "",
            "layout": "IPY_MODEL_fdf787d5a23c4d118172d787be2be10e",
            "_model_module": "@jupyter-widgets/controls",
            "children": [
              "IPY_MODEL_b5174b7c166847ef9596be078f3d4679",
              "IPY_MODEL_88fc982f7a1d41bd81e87a0cf5dee5b7"
            ]
          }
        },
        "fdf787d5a23c4d118172d787be2be10e": {
          "model_module": "@jupyter-widgets/base",
          "model_name": "LayoutModel",
          "state": {
            "_view_name": "LayoutView",
            "grid_template_rows": null,
            "right": null,
            "justify_content": null,
            "_view_module": "@jupyter-widgets/base",
            "overflow": null,
            "_model_module_version": "1.2.0",
            "_view_count": null,
            "flex_flow": null,
            "width": null,
            "min_width": null,
            "border": null,
            "align_items": null,
            "bottom": null,
            "_model_module": "@jupyter-widgets/base",
            "top": null,
            "grid_column": null,
            "overflow_y": null,
            "overflow_x": null,
            "grid_auto_flow": null,
            "grid_area": null,
            "grid_template_columns": null,
            "flex": null,
            "_model_name": "LayoutModel",
            "justify_items": null,
            "grid_row": null,
            "max_height": null,
            "align_content": null,
            "visibility": null,
            "align_self": null,
            "height": null,
            "min_height": null,
            "padding": null,
            "grid_auto_rows": null,
            "grid_gap": null,
            "max_width": null,
            "order": null,
            "_view_module_version": "1.2.0",
            "grid_template_areas": null,
            "object_position": null,
            "object_fit": null,
            "grid_auto_columns": null,
            "margin": null,
            "display": null,
            "left": null
          }
        },
        "b5174b7c166847ef9596be078f3d4679": {
          "model_module": "@jupyter-widgets/controls",
          "model_name": "FloatProgressModel",
          "state": {
            "_view_name": "ProgressView",
            "style": "IPY_MODEL_f45cb4cddcff401497f5cf3d01a3f363",
            "_dom_classes": [],
            "description": "Downloading: 100%",
            "_model_name": "FloatProgressModel",
            "bar_style": "success",
            "max": 434,
            "_view_module": "@jupyter-widgets/controls",
            "_model_module_version": "1.5.0",
            "value": 434,
            "_view_count": null,
            "_view_module_version": "1.5.0",
            "orientation": "horizontal",
            "min": 0,
            "description_tooltip": null,
            "_model_module": "@jupyter-widgets/controls",
            "layout": "IPY_MODEL_622412430e40400ebca91644be0a2b41"
          }
        },
        "88fc982f7a1d41bd81e87a0cf5dee5b7": {
          "model_module": "@jupyter-widgets/controls",
          "model_name": "HTMLModel",
          "state": {
            "_view_name": "HTMLView",
            "style": "IPY_MODEL_0cea88821b3349c9a1f856ec77a0f244",
            "_dom_classes": [],
            "description": "",
            "_model_name": "HTMLModel",
            "placeholder": "​",
            "_view_module": "@jupyter-widgets/controls",
            "_model_module_version": "1.5.0",
            "value": " 434/434 [00:26&lt;00:00, 16.4B/s]",
            "_view_count": null,
            "_view_module_version": "1.5.0",
            "description_tooltip": null,
            "_model_module": "@jupyter-widgets/controls",
            "layout": "IPY_MODEL_57e69f66e47f48ae96989c0b11c181ed"
          }
        },
        "f45cb4cddcff401497f5cf3d01a3f363": {
          "model_module": "@jupyter-widgets/controls",
          "model_name": "ProgressStyleModel",
          "state": {
            "_view_name": "StyleView",
            "_model_name": "ProgressStyleModel",
            "description_width": "initial",
            "_view_module": "@jupyter-widgets/base",
            "_model_module_version": "1.5.0",
            "_view_count": null,
            "_view_module_version": "1.2.0",
            "bar_color": null,
            "_model_module": "@jupyter-widgets/controls"
          }
        },
        "622412430e40400ebca91644be0a2b41": {
          "model_module": "@jupyter-widgets/base",
          "model_name": "LayoutModel",
          "state": {
            "_view_name": "LayoutView",
            "grid_template_rows": null,
            "right": null,
            "justify_content": null,
            "_view_module": "@jupyter-widgets/base",
            "overflow": null,
            "_model_module_version": "1.2.0",
            "_view_count": null,
            "flex_flow": null,
            "width": null,
            "min_width": null,
            "border": null,
            "align_items": null,
            "bottom": null,
            "_model_module": "@jupyter-widgets/base",
            "top": null,
            "grid_column": null,
            "overflow_y": null,
            "overflow_x": null,
            "grid_auto_flow": null,
            "grid_area": null,
            "grid_template_columns": null,
            "flex": null,
            "_model_name": "LayoutModel",
            "justify_items": null,
            "grid_row": null,
            "max_height": null,
            "align_content": null,
            "visibility": null,
            "align_self": null,
            "height": null,
            "min_height": null,
            "padding": null,
            "grid_auto_rows": null,
            "grid_gap": null,
            "max_width": null,
            "order": null,
            "_view_module_version": "1.2.0",
            "grid_template_areas": null,
            "object_position": null,
            "object_fit": null,
            "grid_auto_columns": null,
            "margin": null,
            "display": null,
            "left": null
          }
        },
        "0cea88821b3349c9a1f856ec77a0f244": {
          "model_module": "@jupyter-widgets/controls",
          "model_name": "DescriptionStyleModel",
          "state": {
            "_view_name": "StyleView",
            "_model_name": "DescriptionStyleModel",
            "description_width": "",
            "_view_module": "@jupyter-widgets/base",
            "_model_module_version": "1.5.0",
            "_view_count": null,
            "_view_module_version": "1.2.0",
            "_model_module": "@jupyter-widgets/controls"
          }
        },
        "57e69f66e47f48ae96989c0b11c181ed": {
          "model_module": "@jupyter-widgets/base",
          "model_name": "LayoutModel",
          "state": {
            "_view_name": "LayoutView",
            "grid_template_rows": null,
            "right": null,
            "justify_content": null,
            "_view_module": "@jupyter-widgets/base",
            "overflow": null,
            "_model_module_version": "1.2.0",
            "_view_count": null,
            "flex_flow": null,
            "width": null,
            "min_width": null,
            "border": null,
            "align_items": null,
            "bottom": null,
            "_model_module": "@jupyter-widgets/base",
            "top": null,
            "grid_column": null,
            "overflow_y": null,
            "overflow_x": null,
            "grid_auto_flow": null,
            "grid_area": null,
            "grid_template_columns": null,
            "flex": null,
            "_model_name": "LayoutModel",
            "justify_items": null,
            "grid_row": null,
            "max_height": null,
            "align_content": null,
            "visibility": null,
            "align_self": null,
            "height": null,
            "min_height": null,
            "padding": null,
            "grid_auto_rows": null,
            "grid_gap": null,
            "max_width": null,
            "order": null,
            "_view_module_version": "1.2.0",
            "grid_template_areas": null,
            "object_position": null,
            "object_fit": null,
            "grid_auto_columns": null,
            "margin": null,
            "display": null,
            "left": null
          }
        },
        "a2c54dcf6dd44c52b858da04dc4662f9": {
          "model_module": "@jupyter-widgets/controls",
          "model_name": "HBoxModel",
          "state": {
            "_view_name": "HBoxView",
            "_dom_classes": [],
            "_model_name": "HBoxModel",
            "_view_module": "@jupyter-widgets/controls",
            "_model_module_version": "1.5.0",
            "_view_count": null,
            "_view_module_version": "1.5.0",
            "box_style": "",
            "layout": "IPY_MODEL_ff682a9795b64ce5bf622c97c69ac0be",
            "_model_module": "@jupyter-widgets/controls",
            "children": [
              "IPY_MODEL_fce7c213e4614a8eb61e8cf7bb451a36",
              "IPY_MODEL_539f7756ff1140ffb486efa9d0b8680c"
            ]
          }
        },
        "ff682a9795b64ce5bf622c97c69ac0be": {
          "model_module": "@jupyter-widgets/base",
          "model_name": "LayoutModel",
          "state": {
            "_view_name": "LayoutView",
            "grid_template_rows": null,
            "right": null,
            "justify_content": null,
            "_view_module": "@jupyter-widgets/base",
            "overflow": null,
            "_model_module_version": "1.2.0",
            "_view_count": null,
            "flex_flow": null,
            "width": null,
            "min_width": null,
            "border": null,
            "align_items": null,
            "bottom": null,
            "_model_module": "@jupyter-widgets/base",
            "top": null,
            "grid_column": null,
            "overflow_y": null,
            "overflow_x": null,
            "grid_auto_flow": null,
            "grid_area": null,
            "grid_template_columns": null,
            "flex": null,
            "_model_name": "LayoutModel",
            "justify_items": null,
            "grid_row": null,
            "max_height": null,
            "align_content": null,
            "visibility": null,
            "align_self": null,
            "height": null,
            "min_height": null,
            "padding": null,
            "grid_auto_rows": null,
            "grid_gap": null,
            "max_width": null,
            "order": null,
            "_view_module_version": "1.2.0",
            "grid_template_areas": null,
            "object_position": null,
            "object_fit": null,
            "grid_auto_columns": null,
            "margin": null,
            "display": null,
            "left": null
          }
        },
        "fce7c213e4614a8eb61e8cf7bb451a36": {
          "model_module": "@jupyter-widgets/controls",
          "model_name": "FloatProgressModel",
          "state": {
            "_view_name": "ProgressView",
            "style": "IPY_MODEL_35cd40f115a64844a24ab3e2f6d29b2d",
            "_dom_classes": [],
            "description": "Downloading: 100%",
            "_model_name": "FloatProgressModel",
            "bar_style": "success",
            "max": 1344997306,
            "_view_module": "@jupyter-widgets/controls",
            "_model_module_version": "1.5.0",
            "value": 1344997306,
            "_view_count": null,
            "_view_module_version": "1.5.0",
            "orientation": "horizontal",
            "min": 0,
            "description_tooltip": null,
            "_model_module": "@jupyter-widgets/controls",
            "layout": "IPY_MODEL_352f5da4ddf1437fbed9bc1caf87142a"
          }
        },
        "539f7756ff1140ffb486efa9d0b8680c": {
          "model_module": "@jupyter-widgets/controls",
          "model_name": "HTMLModel",
          "state": {
            "_view_name": "HTMLView",
            "style": "IPY_MODEL_6f34547e87ee47ad850ab61be66eade8",
            "_dom_classes": [],
            "description": "",
            "_model_name": "HTMLModel",
            "placeholder": "​",
            "_view_module": "@jupyter-widgets/controls",
            "_model_module_version": "1.5.0",
            "value": " 1.34G/1.34G [00:20&lt;00:00, 66.6MB/s]",
            "_view_count": null,
            "_view_module_version": "1.5.0",
            "description_tooltip": null,
            "_model_module": "@jupyter-widgets/controls",
            "layout": "IPY_MODEL_b58aa5936a83458ea42e7d1e50f1e80f"
          }
        },
        "35cd40f115a64844a24ab3e2f6d29b2d": {
          "model_module": "@jupyter-widgets/controls",
          "model_name": "ProgressStyleModel",
          "state": {
            "_view_name": "StyleView",
            "_model_name": "ProgressStyleModel",
            "description_width": "initial",
            "_view_module": "@jupyter-widgets/base",
            "_model_module_version": "1.5.0",
            "_view_count": null,
            "_view_module_version": "1.2.0",
            "bar_color": null,
            "_model_module": "@jupyter-widgets/controls"
          }
        },
        "352f5da4ddf1437fbed9bc1caf87142a": {
          "model_module": "@jupyter-widgets/base",
          "model_name": "LayoutModel",
          "state": {
            "_view_name": "LayoutView",
            "grid_template_rows": null,
            "right": null,
            "justify_content": null,
            "_view_module": "@jupyter-widgets/base",
            "overflow": null,
            "_model_module_version": "1.2.0",
            "_view_count": null,
            "flex_flow": null,
            "width": null,
            "min_width": null,
            "border": null,
            "align_items": null,
            "bottom": null,
            "_model_module": "@jupyter-widgets/base",
            "top": null,
            "grid_column": null,
            "overflow_y": null,
            "overflow_x": null,
            "grid_auto_flow": null,
            "grid_area": null,
            "grid_template_columns": null,
            "flex": null,
            "_model_name": "LayoutModel",
            "justify_items": null,
            "grid_row": null,
            "max_height": null,
            "align_content": null,
            "visibility": null,
            "align_self": null,
            "height": null,
            "min_height": null,
            "padding": null,
            "grid_auto_rows": null,
            "grid_gap": null,
            "max_width": null,
            "order": null,
            "_view_module_version": "1.2.0",
            "grid_template_areas": null,
            "object_position": null,
            "object_fit": null,
            "grid_auto_columns": null,
            "margin": null,
            "display": null,
            "left": null
          }
        },
        "6f34547e87ee47ad850ab61be66eade8": {
          "model_module": "@jupyter-widgets/controls",
          "model_name": "DescriptionStyleModel",
          "state": {
            "_view_name": "StyleView",
            "_model_name": "DescriptionStyleModel",
            "description_width": "",
            "_view_module": "@jupyter-widgets/base",
            "_model_module_version": "1.5.0",
            "_view_count": null,
            "_view_module_version": "1.2.0",
            "_model_module": "@jupyter-widgets/controls"
          }
        },
        "b58aa5936a83458ea42e7d1e50f1e80f": {
          "model_module": "@jupyter-widgets/base",
          "model_name": "LayoutModel",
          "state": {
            "_view_name": "LayoutView",
            "grid_template_rows": null,
            "right": null,
            "justify_content": null,
            "_view_module": "@jupyter-widgets/base",
            "overflow": null,
            "_model_module_version": "1.2.0",
            "_view_count": null,
            "flex_flow": null,
            "width": null,
            "min_width": null,
            "border": null,
            "align_items": null,
            "bottom": null,
            "_model_module": "@jupyter-widgets/base",
            "top": null,
            "grid_column": null,
            "overflow_y": null,
            "overflow_x": null,
            "grid_auto_flow": null,
            "grid_area": null,
            "grid_template_columns": null,
            "flex": null,
            "_model_name": "LayoutModel",
            "justify_items": null,
            "grid_row": null,
            "max_height": null,
            "align_content": null,
            "visibility": null,
            "align_self": null,
            "height": null,
            "min_height": null,
            "padding": null,
            "grid_auto_rows": null,
            "grid_gap": null,
            "max_width": null,
            "order": null,
            "_view_module_version": "1.2.0",
            "grid_template_areas": null,
            "object_position": null,
            "object_fit": null,
            "grid_auto_columns": null,
            "margin": null,
            "display": null,
            "left": null
          }
        },
        "f92a9847469b47918de1dfd6ce114ba5": {
          "model_module": "@jupyter-widgets/controls",
          "model_name": "HBoxModel",
          "state": {
            "_view_name": "HBoxView",
            "_dom_classes": [],
            "_model_name": "HBoxModel",
            "_view_module": "@jupyter-widgets/controls",
            "_model_module_version": "1.5.0",
            "_view_count": null,
            "_view_module_version": "1.5.0",
            "box_style": "",
            "layout": "IPY_MODEL_cb5296c058d243859224ddb82363c707",
            "_model_module": "@jupyter-widgets/controls",
            "children": [
              "IPY_MODEL_01bfd695f4f94e51aa7159cd0562b859",
              "IPY_MODEL_3d989be1f14f48ceaab2eabd317fdb86"
            ]
          }
        },
        "cb5296c058d243859224ddb82363c707": {
          "model_module": "@jupyter-widgets/base",
          "model_name": "LayoutModel",
          "state": {
            "_view_name": "LayoutView",
            "grid_template_rows": null,
            "right": null,
            "justify_content": null,
            "_view_module": "@jupyter-widgets/base",
            "overflow": null,
            "_model_module_version": "1.2.0",
            "_view_count": null,
            "flex_flow": null,
            "width": null,
            "min_width": null,
            "border": null,
            "align_items": null,
            "bottom": null,
            "_model_module": "@jupyter-widgets/base",
            "top": null,
            "grid_column": null,
            "overflow_y": null,
            "overflow_x": null,
            "grid_auto_flow": null,
            "grid_area": null,
            "grid_template_columns": null,
            "flex": null,
            "_model_name": "LayoutModel",
            "justify_items": null,
            "grid_row": null,
            "max_height": null,
            "align_content": null,
            "visibility": null,
            "align_self": null,
            "height": null,
            "min_height": null,
            "padding": null,
            "grid_auto_rows": null,
            "grid_gap": null,
            "max_width": null,
            "order": null,
            "_view_module_version": "1.2.0",
            "grid_template_areas": null,
            "object_position": null,
            "object_fit": null,
            "grid_auto_columns": null,
            "margin": null,
            "display": null,
            "left": null
          }
        },
        "01bfd695f4f94e51aa7159cd0562b859": {
          "model_module": "@jupyter-widgets/controls",
          "model_name": "FloatProgressModel",
          "state": {
            "_view_name": "ProgressView",
            "style": "IPY_MODEL_89231826ca364f6d9dbf26c18b0d77ab",
            "_dom_classes": [],
            "description": "Downloading: 100%",
            "_model_name": "FloatProgressModel",
            "bar_style": "success",
            "max": 231508,
            "_view_module": "@jupyter-widgets/controls",
            "_model_module_version": "1.5.0",
            "value": 231508,
            "_view_count": null,
            "_view_module_version": "1.5.0",
            "orientation": "horizontal",
            "min": 0,
            "description_tooltip": null,
            "_model_module": "@jupyter-widgets/controls",
            "layout": "IPY_MODEL_6df237f255204e6f84901d62c306ffd1"
          }
        },
        "3d989be1f14f48ceaab2eabd317fdb86": {
          "model_module": "@jupyter-widgets/controls",
          "model_name": "HTMLModel",
          "state": {
            "_view_name": "HTMLView",
            "style": "IPY_MODEL_1ceb1e94da584382a3ac1ae4eeed287b",
            "_dom_classes": [],
            "description": "",
            "_model_name": "HTMLModel",
            "placeholder": "​",
            "_view_module": "@jupyter-widgets/controls",
            "_model_module_version": "1.5.0",
            "value": " 232k/232k [00:00&lt;00:00, 728kB/s]",
            "_view_count": null,
            "_view_module_version": "1.5.0",
            "description_tooltip": null,
            "_model_module": "@jupyter-widgets/controls",
            "layout": "IPY_MODEL_4677c9da7e1c47dda6655dc3a2ecfa75"
          }
        },
        "89231826ca364f6d9dbf26c18b0d77ab": {
          "model_module": "@jupyter-widgets/controls",
          "model_name": "ProgressStyleModel",
          "state": {
            "_view_name": "StyleView",
            "_model_name": "ProgressStyleModel",
            "description_width": "initial",
            "_view_module": "@jupyter-widgets/base",
            "_model_module_version": "1.5.0",
            "_view_count": null,
            "_view_module_version": "1.2.0",
            "bar_color": null,
            "_model_module": "@jupyter-widgets/controls"
          }
        },
        "6df237f255204e6f84901d62c306ffd1": {
          "model_module": "@jupyter-widgets/base",
          "model_name": "LayoutModel",
          "state": {
            "_view_name": "LayoutView",
            "grid_template_rows": null,
            "right": null,
            "justify_content": null,
            "_view_module": "@jupyter-widgets/base",
            "overflow": null,
            "_model_module_version": "1.2.0",
            "_view_count": null,
            "flex_flow": null,
            "width": null,
            "min_width": null,
            "border": null,
            "align_items": null,
            "bottom": null,
            "_model_module": "@jupyter-widgets/base",
            "top": null,
            "grid_column": null,
            "overflow_y": null,
            "overflow_x": null,
            "grid_auto_flow": null,
            "grid_area": null,
            "grid_template_columns": null,
            "flex": null,
            "_model_name": "LayoutModel",
            "justify_items": null,
            "grid_row": null,
            "max_height": null,
            "align_content": null,
            "visibility": null,
            "align_self": null,
            "height": null,
            "min_height": null,
            "padding": null,
            "grid_auto_rows": null,
            "grid_gap": null,
            "max_width": null,
            "order": null,
            "_view_module_version": "1.2.0",
            "grid_template_areas": null,
            "object_position": null,
            "object_fit": null,
            "grid_auto_columns": null,
            "margin": null,
            "display": null,
            "left": null
          }
        },
        "1ceb1e94da584382a3ac1ae4eeed287b": {
          "model_module": "@jupyter-widgets/controls",
          "model_name": "DescriptionStyleModel",
          "state": {
            "_view_name": "StyleView",
            "_model_name": "DescriptionStyleModel",
            "description_width": "",
            "_view_module": "@jupyter-widgets/base",
            "_model_module_version": "1.5.0",
            "_view_count": null,
            "_view_module_version": "1.2.0",
            "_model_module": "@jupyter-widgets/controls"
          }
        },
        "4677c9da7e1c47dda6655dc3a2ecfa75": {
          "model_module": "@jupyter-widgets/base",
          "model_name": "LayoutModel",
          "state": {
            "_view_name": "LayoutView",
            "grid_template_rows": null,
            "right": null,
            "justify_content": null,
            "_view_module": "@jupyter-widgets/base",
            "overflow": null,
            "_model_module_version": "1.2.0",
            "_view_count": null,
            "flex_flow": null,
            "width": null,
            "min_width": null,
            "border": null,
            "align_items": null,
            "bottom": null,
            "_model_module": "@jupyter-widgets/base",
            "top": null,
            "grid_column": null,
            "overflow_y": null,
            "overflow_x": null,
            "grid_auto_flow": null,
            "grid_area": null,
            "grid_template_columns": null,
            "flex": null,
            "_model_name": "LayoutModel",
            "justify_items": null,
            "grid_row": null,
            "max_height": null,
            "align_content": null,
            "visibility": null,
            "align_self": null,
            "height": null,
            "min_height": null,
            "padding": null,
            "grid_auto_rows": null,
            "grid_gap": null,
            "max_width": null,
            "order": null,
            "_view_module_version": "1.2.0",
            "grid_template_areas": null,
            "object_position": null,
            "object_fit": null,
            "grid_auto_columns": null,
            "margin": null,
            "display": null,
            "left": null
          }
        }
      }
    }
  },
  "cells": [
    {
      "cell_type": "code",
      "metadata": {
        "id": "k0R8KpIhD7Vu",
        "colab_type": "code",
        "outputId": "f634901b-e08a-4d07-b22f-17c65b4973e9",
        "colab": {
          "base_uri": "https://localhost:8080/",
          "height": 961
        }
      },
      "source": [
        "!pip install bert-extractive-summarizer"
      ],
      "execution_count": 0,
      "outputs": [
        {
          "output_type": "stream",
          "text": [
            "Collecting bert-extractive-summarizer\n",
            "  Downloading https://files.pythonhosted.org/packages/23/1d/71f0a5c7f81b1a87d4428a6a935e9ddeb5e662e41512952e11bd10533cd9/bert-extractive-summarizer-0.4.2.tar.gz\n",
            "Collecting transformers\n",
            "\u001b[?25l  Downloading https://files.pythonhosted.org/packages/22/97/7db72a0beef1825f82188a4b923e62a146271ac2ced7928baa4d47ef2467/transformers-2.9.1-py3-none-any.whl (641kB)\n",
            "\r\u001b[K     |▌                               | 10kB 20.1MB/s eta 0:00:01\r\u001b[K     |█                               | 20kB 25.1MB/s eta 0:00:01\r\u001b[K     |█▌                              | 30kB 4.7MB/s eta 0:00:01\r\u001b[K     |██                              | 40kB 6.1MB/s eta 0:00:01\r\u001b[K     |██▌                             | 51kB 6.1MB/s eta 0:00:01\r\u001b[K     |███                             | 61kB 6.6MB/s eta 0:00:01\r\u001b[K     |███▋                            | 71kB 6.9MB/s eta 0:00:01\r\u001b[K     |████                            | 81kB 6.1MB/s eta 0:00:01\r\u001b[K     |████▋                           | 92kB 6.3MB/s eta 0:00:01\r\u001b[K     |█████                           | 102kB 6.9MB/s eta 0:00:01\r\u001b[K     |█████▋                          | 112kB 6.9MB/s eta 0:00:01\r\u001b[K     |██████▏                         | 122kB 6.9MB/s eta 0:00:01\r\u001b[K     |██████▋                         | 133kB 6.9MB/s eta 0:00:01\r\u001b[K     |███████▏                        | 143kB 6.9MB/s eta 0:00:01\r\u001b[K     |███████▋                        | 153kB 6.9MB/s eta 0:00:01\r\u001b[K     |████████▏                       | 163kB 6.9MB/s eta 0:00:01\r\u001b[K     |████████▊                       | 174kB 6.9MB/s eta 0:00:01\r\u001b[K     |█████████▏                      | 184kB 6.9MB/s eta 0:00:01\r\u001b[K     |█████████▊                      | 194kB 6.9MB/s eta 0:00:01\r\u001b[K     |██████████▏                     | 204kB 6.9MB/s eta 0:00:01\r\u001b[K     |██████████▊                     | 215kB 6.9MB/s eta 0:00:01\r\u001b[K     |███████████▎                    | 225kB 6.9MB/s eta 0:00:01\r\u001b[K     |███████████▊                    | 235kB 6.9MB/s eta 0:00:01\r\u001b[K     |████████████▎                   | 245kB 6.9MB/s eta 0:00:01\r\u001b[K     |████████████▊                   | 256kB 6.9MB/s eta 0:00:01\r\u001b[K     |█████████████▎                  | 266kB 6.9MB/s eta 0:00:01\r\u001b[K     |█████████████▉                  | 276kB 6.9MB/s eta 0:00:01\r\u001b[K     |██████████████▎                 | 286kB 6.9MB/s eta 0:00:01\r\u001b[K     |██████████████▉                 | 296kB 6.9MB/s eta 0:00:01\r\u001b[K     |███████████████▎                | 307kB 6.9MB/s eta 0:00:01\r\u001b[K     |███████████████▉                | 317kB 6.9MB/s eta 0:00:01\r\u001b[K     |████████████████▍               | 327kB 6.9MB/s eta 0:00:01\r\u001b[K     |████████████████▉               | 337kB 6.9MB/s eta 0:00:01\r\u001b[K     |█████████████████▍              | 348kB 6.9MB/s eta 0:00:01\r\u001b[K     |█████████████████▉              | 358kB 6.9MB/s eta 0:00:01\r\u001b[K     |██████████████████▍             | 368kB 6.9MB/s eta 0:00:01\r\u001b[K     |███████████████████             | 378kB 6.9MB/s eta 0:00:01\r\u001b[K     |███████████████████▍            | 389kB 6.9MB/s eta 0:00:01\r\u001b[K     |████████████████████            | 399kB 6.9MB/s eta 0:00:01\r\u001b[K     |████████████████████▍           | 409kB 6.9MB/s eta 0:00:01\r\u001b[K     |█████████████████████           | 419kB 6.9MB/s eta 0:00:01\r\u001b[K     |█████████████████████▍          | 430kB 6.9MB/s eta 0:00:01\r\u001b[K     |██████████████████████          | 440kB 6.9MB/s eta 0:00:01\r\u001b[K     |██████████████████████▌         | 450kB 6.9MB/s eta 0:00:01\r\u001b[K     |███████████████████████         | 460kB 6.9MB/s eta 0:00:01\r\u001b[K     |███████████████████████▌        | 471kB 6.9MB/s eta 0:00:01\r\u001b[K     |████████████████████████        | 481kB 6.9MB/s eta 0:00:01\r\u001b[K     |████████████████████████▌       | 491kB 6.9MB/s eta 0:00:01\r\u001b[K     |█████████████████████████       | 501kB 6.9MB/s eta 0:00:01\r\u001b[K     |█████████████████████████▌      | 512kB 6.9MB/s eta 0:00:01\r\u001b[K     |██████████████████████████      | 522kB 6.9MB/s eta 0:00:01\r\u001b[K     |██████████████████████████▌     | 532kB 6.9MB/s eta 0:00:01\r\u001b[K     |███████████████████████████     | 542kB 6.9MB/s eta 0:00:01\r\u001b[K     |███████████████████████████▋    | 552kB 6.9MB/s eta 0:00:01\r\u001b[K     |████████████████████████████    | 563kB 6.9MB/s eta 0:00:01\r\u001b[K     |████████████████████████████▋   | 573kB 6.9MB/s eta 0:00:01\r\u001b[K     |█████████████████████████████   | 583kB 6.9MB/s eta 0:00:01\r\u001b[K     |█████████████████████████████▋  | 593kB 6.9MB/s eta 0:00:01\r\u001b[K     |██████████████████████████████▏ | 604kB 6.9MB/s eta 0:00:01\r\u001b[K     |██████████████████████████████▋ | 614kB 6.9MB/s eta 0:00:01\r\u001b[K     |███████████████████████████████▏| 624kB 6.9MB/s eta 0:00:01\r\u001b[K     |███████████████████████████████▋| 634kB 6.9MB/s eta 0:00:01\r\u001b[K     |████████████████████████████████| 645kB 6.9MB/s \n",
            "\u001b[?25hRequirement already satisfied: scikit-learn in /usr/local/lib/python3.6/dist-packages (from bert-extractive-summarizer) (0.22.2.post1)\n",
            "Requirement already satisfied: spacy in /usr/local/lib/python3.6/dist-packages (from bert-extractive-summarizer) (2.2.4)\n",
            "Collecting tokenizers==0.7.0\n",
            "\u001b[?25l  Downloading https://files.pythonhosted.org/packages/14/e5/a26eb4716523808bb0a799fcfdceb6ebf77a18169d9591b2f46a9adb87d9/tokenizers-0.7.0-cp36-cp36m-manylinux1_x86_64.whl (3.8MB)\n",
            "\u001b[K     |████████████████████████████████| 3.8MB 20.9MB/s \n",
            "\u001b[?25hRequirement already satisfied: numpy in /usr/local/lib/python3.6/dist-packages (from transformers->bert-extractive-summarizer) (1.18.4)\n",
            "Requirement already satisfied: tqdm>=4.27 in /usr/local/lib/python3.6/dist-packages (from transformers->bert-extractive-summarizer) (4.41.1)\n",
            "Requirement already satisfied: requests in /usr/local/lib/python3.6/dist-packages (from transformers->bert-extractive-summarizer) (2.23.0)\n",
            "Requirement already satisfied: dataclasses; python_version < \"3.7\" in /usr/local/lib/python3.6/dist-packages (from transformers->bert-extractive-summarizer) (0.7)\n",
            "Requirement already satisfied: filelock in /usr/local/lib/python3.6/dist-packages (from transformers->bert-extractive-summarizer) (3.0.12)\n",
            "Requirement already satisfied: regex!=2019.12.17 in /usr/local/lib/python3.6/dist-packages (from transformers->bert-extractive-summarizer) (2019.12.20)\n",
            "Collecting sacremoses\n",
            "\u001b[?25l  Downloading https://files.pythonhosted.org/packages/7d/34/09d19aff26edcc8eb2a01bed8e98f13a1537005d31e95233fd48216eed10/sacremoses-0.0.43.tar.gz (883kB)\n",
            "\u001b[K     |████████████████████████████████| 890kB 46.7MB/s \n",
            "\u001b[?25hCollecting sentencepiece\n",
            "\u001b[?25l  Downloading https://files.pythonhosted.org/packages/3b/88/49e772d686088e1278766ad68a463513642a2a877487decbd691dec02955/sentencepiece-0.1.90-cp36-cp36m-manylinux1_x86_64.whl (1.1MB)\n",
            "\u001b[K     |████████████████████████████████| 1.1MB 47.9MB/s \n",
            "\u001b[?25hRequirement already satisfied: joblib>=0.11 in /usr/local/lib/python3.6/dist-packages (from scikit-learn->bert-extractive-summarizer) (0.14.1)\n",
            "Requirement already satisfied: scipy>=0.17.0 in /usr/local/lib/python3.6/dist-packages (from scikit-learn->bert-extractive-summarizer) (1.4.1)\n",
            "Requirement already satisfied: cymem<2.1.0,>=2.0.2 in /usr/local/lib/python3.6/dist-packages (from spacy->bert-extractive-summarizer) (2.0.3)\n",
            "Requirement already satisfied: plac<1.2.0,>=0.9.6 in /usr/local/lib/python3.6/dist-packages (from spacy->bert-extractive-summarizer) (1.1.3)\n",
            "Requirement already satisfied: murmurhash<1.1.0,>=0.28.0 in /usr/local/lib/python3.6/dist-packages (from spacy->bert-extractive-summarizer) (1.0.2)\n",
            "Requirement already satisfied: wasabi<1.1.0,>=0.4.0 in /usr/local/lib/python3.6/dist-packages (from spacy->bert-extractive-summarizer) (0.6.0)\n",
            "Requirement already satisfied: setuptools in /usr/local/lib/python3.6/dist-packages (from spacy->bert-extractive-summarizer) (46.1.3)\n",
            "Requirement already satisfied: preshed<3.1.0,>=3.0.2 in /usr/local/lib/python3.6/dist-packages (from spacy->bert-extractive-summarizer) (3.0.2)\n",
            "Requirement already satisfied: thinc==7.4.0 in /usr/local/lib/python3.6/dist-packages (from spacy->bert-extractive-summarizer) (7.4.0)\n",
            "Requirement already satisfied: catalogue<1.1.0,>=0.0.7 in /usr/local/lib/python3.6/dist-packages (from spacy->bert-extractive-summarizer) (1.0.0)\n",
            "Requirement already satisfied: srsly<1.1.0,>=1.0.2 in /usr/local/lib/python3.6/dist-packages (from spacy->bert-extractive-summarizer) (1.0.2)\n",
            "Requirement already satisfied: blis<0.5.0,>=0.4.0 in /usr/local/lib/python3.6/dist-packages (from spacy->bert-extractive-summarizer) (0.4.1)\n",
            "Requirement already satisfied: idna<3,>=2.5 in /usr/local/lib/python3.6/dist-packages (from requests->transformers->bert-extractive-summarizer) (2.9)\n",
            "Requirement already satisfied: urllib3!=1.25.0,!=1.25.1,<1.26,>=1.21.1 in /usr/local/lib/python3.6/dist-packages (from requests->transformers->bert-extractive-summarizer) (1.24.3)\n",
            "Requirement already satisfied: chardet<4,>=3.0.2 in /usr/local/lib/python3.6/dist-packages (from requests->transformers->bert-extractive-summarizer) (3.0.4)\n",
            "Requirement already satisfied: certifi>=2017.4.17 in /usr/local/lib/python3.6/dist-packages (from requests->transformers->bert-extractive-summarizer) (2020.4.5.1)\n",
            "Requirement already satisfied: six in /usr/local/lib/python3.6/dist-packages (from sacremoses->transformers->bert-extractive-summarizer) (1.12.0)\n",
            "Requirement already satisfied: click in /usr/local/lib/python3.6/dist-packages (from sacremoses->transformers->bert-extractive-summarizer) (7.1.2)\n",
            "Requirement already satisfied: importlib-metadata>=0.20; python_version < \"3.8\" in /usr/local/lib/python3.6/dist-packages (from catalogue<1.1.0,>=0.0.7->spacy->bert-extractive-summarizer) (1.6.0)\n",
            "Requirement already satisfied: zipp>=0.5 in /usr/local/lib/python3.6/dist-packages (from importlib-metadata>=0.20; python_version < \"3.8\"->catalogue<1.1.0,>=0.0.7->spacy->bert-extractive-summarizer) (3.1.0)\n",
            "Building wheels for collected packages: bert-extractive-summarizer, sacremoses\n",
            "  Building wheel for bert-extractive-summarizer (setup.py) ... \u001b[?25l\u001b[?25hdone\n",
            "  Created wheel for bert-extractive-summarizer: filename=bert_extractive_summarizer-0.4.2-cp36-none-any.whl size=13711 sha256=40db9b82a94bb642f2a12c9cc0e67fc124b666a58d51a45d12a78abba4da1c44\n",
            "  Stored in directory: /root/.cache/pip/wheels/13/bc/30/654eb9e657177a56cba927c5a20b6cd01fb229b1ed2bf9b371\n",
            "  Building wheel for sacremoses (setup.py) ... \u001b[?25l\u001b[?25hdone\n",
            "  Created wheel for sacremoses: filename=sacremoses-0.0.43-cp36-none-any.whl size=893260 sha256=665b5d237b10440bbaf09fe3c660671ef6edd7e503f69cacad424a0599fc9237\n",
            "  Stored in directory: /root/.cache/pip/wheels/29/3c/fd/7ce5c3f0666dab31a50123635e6fb5e19ceb42ce38d4e58f45\n",
            "Successfully built bert-extractive-summarizer sacremoses\n",
            "Installing collected packages: tokenizers, sacremoses, sentencepiece, transformers, bert-extractive-summarizer\n",
            "Successfully installed bert-extractive-summarizer-0.4.2 sacremoses-0.0.43 sentencepiece-0.1.90 tokenizers-0.7.0 transformers-2.9.1\n"
          ],
          "name": "stdout"
        }
      ]
    },
    {
      "cell_type": "code",
      "metadata": {
        "id": "nWUnuMmyD-Qf",
        "colab_type": "code",
        "outputId": "f39c5598-c573-499e-864a-11c09377f98d",
        "colab": {
          "base_uri": "https://localhost:8080/",
          "height": 166,
          "referenced_widgets": [
            "c49862cfc99b499da9cc6ed0a60a547d",
            "fdf787d5a23c4d118172d787be2be10e",
            "b5174b7c166847ef9596be078f3d4679",
            "88fc982f7a1d41bd81e87a0cf5dee5b7",
            "f45cb4cddcff401497f5cf3d01a3f363",
            "622412430e40400ebca91644be0a2b41",
            "0cea88821b3349c9a1f856ec77a0f244",
            "57e69f66e47f48ae96989c0b11c181ed",
            "a2c54dcf6dd44c52b858da04dc4662f9",
            "ff682a9795b64ce5bf622c97c69ac0be",
            "fce7c213e4614a8eb61e8cf7bb451a36",
            "539f7756ff1140ffb486efa9d0b8680c",
            "35cd40f115a64844a24ab3e2f6d29b2d",
            "352f5da4ddf1437fbed9bc1caf87142a",
            "6f34547e87ee47ad850ab61be66eade8",
            "b58aa5936a83458ea42e7d1e50f1e80f",
            "f92a9847469b47918de1dfd6ce114ba5",
            "cb5296c058d243859224ddb82363c707",
            "01bfd695f4f94e51aa7159cd0562b859",
            "3d989be1f14f48ceaab2eabd317fdb86",
            "89231826ca364f6d9dbf26c18b0d77ab",
            "6df237f255204e6f84901d62c306ffd1",
            "1ceb1e94da584382a3ac1ae4eeed287b",
            "4677c9da7e1c47dda6655dc3a2ecfa75"
          ]
        }
      },
      "source": [
        "from summarizer import Summarizer\n",
        "model=Summarizer()"
      ],
      "execution_count": 0,
      "outputs": [
        {
          "output_type": "display_data",
          "data": {
            "application/vnd.jupyter.widget-view+json": {
              "model_id": "c49862cfc99b499da9cc6ed0a60a547d",
              "version_minor": 0,
              "version_major": 2
            },
            "text/plain": [
              "HBox(children=(FloatProgress(value=0.0, description='Downloading', max=434.0, style=ProgressStyle(description_…"
            ]
          },
          "metadata": {
            "tags": []
          }
        },
        {
          "output_type": "stream",
          "text": [
            "\n"
          ],
          "name": "stdout"
        },
        {
          "output_type": "display_data",
          "data": {
            "application/vnd.jupyter.widget-view+json": {
              "model_id": "a2c54dcf6dd44c52b858da04dc4662f9",
              "version_minor": 0,
              "version_major": 2
            },
            "text/plain": [
              "HBox(children=(FloatProgress(value=0.0, description='Downloading', max=1344997306.0, style=ProgressStyle(descr…"
            ]
          },
          "metadata": {
            "tags": []
          }
        },
        {
          "output_type": "stream",
          "text": [
            "\n"
          ],
          "name": "stdout"
        },
        {
          "output_type": "display_data",
          "data": {
            "application/vnd.jupyter.widget-view+json": {
              "model_id": "f92a9847469b47918de1dfd6ce114ba5",
              "version_minor": 0,
              "version_major": 2
            },
            "text/plain": [
              "HBox(children=(FloatProgress(value=0.0, description='Downloading', max=231508.0, style=ProgressStyle(descripti…"
            ]
          },
          "metadata": {
            "tags": []
          }
        },
        {
          "output_type": "stream",
          "text": [
            "\n"
          ],
          "name": "stdout"
        }
      ]
    },
    {
      "cell_type": "code",
      "metadata": {
        "id": "0vyxFhSeECt1",
        "colab_type": "code",
        "colab": {}
      },
      "source": [
        "text='''\n",
        "Epic Games Store, the digital video game marketplace, listed the highly popular game Grand Theft Auto V (GTA V) for free on May 14. Shortly after the game went online for free, a surge in users led to heavy traffic that caused slowdowns and error messages on the Epic Store website and launcher app. Epic acknowledged the issues and said it is working on fixing them. As per the most recent tweet by the Epic Games Store official account, most of the users should be able to access the Epic Games Store and the launcher. Additionally, a post on Reddit states that the next set of free games coming to the Epic store may have already leaked.\n",
        "\n",
        "Epic Games Store often gives out free games as a ‘mystery game' that users can download and keep forever. This time, it put up Grand Theft Auto V as the free game till May 21 and naturally, a large number of people rushed to the online store website and launcher app to get the game. This caused heavy traffic on Epic's servers, which led to slowdowns, errors, and the Epic Games Launcher crashing. Owing to the popularity of GTA V even though it is 7 years old, the swarm of users still wanting to download the game comes as no surprise. GTA V is available for free in India as well and you have till May 21 to download the game and keep it forever.\n",
        "\n",
        "In a tweet shortly after the issues were reported by the users, Epic acknowledged the problems and said that it was working on a fix. It followed up with another tweet suggesting there were still some issues being faced by some users. Finally, as of the morning of May 15, the company shared that it has “deployed updates to provide resolution for these issues,” and that most users should be able to access the Epic Games Store website and launcher. “We'll continue to monitor traffic and provide updates if further issues are encountered. Thank you for your continued patience!”, the tweet added.\n",
        "'''"
      ],
      "execution_count": 0,
      "outputs": []
    },
    {
      "cell_type": "code",
      "metadata": {
        "id": "fGM7s5S7EFqH",
        "colab_type": "code",
        "outputId": "6cb6de0a-ed54-4646-fb8d-706582e71f58",
        "colab": {
          "base_uri": "https://localhost:8080/",
          "height": 55
        }
      },
      "source": [
        "summary=model(text)\n",
        "print(summary)"
      ],
      "execution_count": 0,
      "outputs": [
        {
          "output_type": "stream",
          "text": [
            "Epic Games Store, the digital video game marketplace, listed the highly popular game Grand Theft Auto V (GTA V) for free on May 14. Shortly after the game went online for free, a surge in users led to heavy traffic that caused slowdowns and error messages on the Epic Store website and launcher app. GTA V is available for free in India as well and you have till May 21 to download the game and keep it forever.\n"
          ],
          "name": "stdout"
        }
      ]
    }
  ]
}